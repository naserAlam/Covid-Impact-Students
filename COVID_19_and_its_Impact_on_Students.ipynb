{
  "nbformat": 4,
  "nbformat_minor": 0,
  "metadata": {
    "colab": {
      "name": "COVID-19 and its Impact on Students.ipynb",
      "provenance": [],
      "collapsed_sections": [],
      "authorship_tag": "ABX9TyNJHa6NM4jqrSywu0MqEQ4c",
      "include_colab_link": true
    },
    "kernelspec": {
      "name": "python3",
      "display_name": "Python 3"
    },
    "language_info": {
      "name": "python"
    }
  },
  "cells": [
    {
      "cell_type": "markdown",
      "metadata": {
        "id": "view-in-github",
        "colab_type": "text"
      },
      "source": [
        "<a href=\"https://colab.research.google.com/github/naseralam-ulab/Covid-Impact-Students/blob/main/COVID_19_and_its_Impact_on_Students.ipynb\" target=\"_parent\"><img src=\"https://colab.research.google.com/assets/colab-badge.svg\" alt=\"Open In Colab\"/></a>"
      ]
    },
    {
      "cell_type": "markdown",
      "metadata": {
        "id": "6KTMGEyWIuBo"
      },
      "source": [
        "# COVID-19 and its Impact on Students\n",
        "\n",
        "---\n",
        "\n"
      ]
    },
    {
      "cell_type": "markdown",
      "metadata": {
        "id": "f2hrcEk672j6"
      },
      "source": [
        "##Preprocessing\n",
        " - Importing dataset form [Kaggle](https://https://www.kaggle.com/kunal28chaturvedi/covid19-and-its-impact-on-students)\n",
        " - Importing relevant packages"
      ]
    },
    {
      "cell_type": "code",
      "metadata": {
        "id": "lomX_-Ob_yvP"
      },
      "source": [
        "!rm -rf sample_data"
      ],
      "execution_count": null,
      "outputs": []
    },
    {
      "cell_type": "code",
      "metadata": {
        "id": "e9GSZkYWIgH6"
      },
      "source": [
        "!pip install kaggle"
      ],
      "execution_count": null,
      "outputs": []
    },
    {
      "cell_type": "code",
      "metadata": {
        "id": "SY6NEUH18mMD"
      },
      "source": [
        "from google.colab import files\n",
        "files.upload()"
      ],
      "execution_count": null,
      "outputs": []
    },
    {
      "cell_type": "code",
      "metadata": {
        "id": "9EGTpU_I8ypb"
      },
      "source": [
        "!mkdir -p ~/.kaggle\n",
        "!cp kaggle.json ~/.kaggle/\n",
        "\n",
        "# change the permission\n",
        "!chmod 600 ~/.kaggle/kaggle.json"
      ],
      "execution_count": null,
      "outputs": []
    },
    {
      "cell_type": "code",
      "metadata": {
        "id": "7l0qQ2Hs9btK"
      },
      "source": [
        "!kaggle datasets download -d kunal28chaturvedi/covid19-and-its-impact-on-students\n",
        "\n",
        "from zipfile import ZipFile\n",
        "file_name = \"covid19-and-its-impact-on-students.zip\"\n",
        "\n",
        "with ZipFile(file_name, 'r') as zip:\n",
        "  zip.extractall()\n",
        "  print(\"Task Completed\")"
      ],
      "execution_count": null,
      "outputs": []
    }
  ]
}